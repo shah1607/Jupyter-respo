{
 "cells": [
  {
   "cell_type": "code",
   "execution_count": 1,
   "id": "4fbfd698",
   "metadata": {},
   "outputs": [],
   "source": [
    "import numpy as np\n"
   ]
  },
  {
   "cell_type": "code",
   "execution_count": 3,
   "id": "919333ee",
   "metadata": {},
   "outputs": [
    {
     "name": "stdout",
     "output_type": "stream",
     "text": [
      "a is: [[1 2 3]\n",
      " [4 5 6]]\n",
      "b is: [7 8 9]\n"
     ]
    }
   ],
   "source": [
    "a=np.array([(1,2,3) ,(4,5,6)])\n",
    "b=np.array([7,8,9])\n",
    "print(\"a is:\",a)\n",
    "print(\"b is:\",b)\n"
   ]
  },
  {
   "cell_type": "code",
   "execution_count": 8,
   "id": "3d4283bc",
   "metadata": {},
   "outputs": [
    {
     "name": "stdout",
     "output_type": "stream",
     "text": [
      "ndim 2\n",
      "shape  (3, 3)\n",
      "size 9\n",
      "data type int64\n",
      "iteam size 8\n"
     ]
    }
   ],
   "source": [
    "a=np.array([[1,2,3] ,[4,5,6],[7,8,9]])\n",
    "print(\"ndim\",a.ndim)\n",
    "print(\"shape \",a.shape)\n",
    "print(\"size\",a.size)\n",
    "print(\"data type\",a.dtype)\n",
    "print(\"iteam size\",a.itemsize)"
   ]
  },
  {
   "cell_type": "code",
   "execution_count": 9,
   "id": "e01edcee",
   "metadata": {},
   "outputs": [
    {
     "name": "stdout",
     "output_type": "stream",
     "text": [
      "item size: 8\n"
     ]
    }
   ],
   "source": [
    "b=np.array(4,dtype=float)\n",
    "b\n",
    "print(\"item size:\",b.itemsize)"
   ]
  },
  {
   "cell_type": "code",
   "execution_count": 11,
   "id": "de4890cc",
   "metadata": {},
   "outputs": [
    {
     "name": "stdout",
     "output_type": "stream",
     "text": [
      "ndim 2\n"
     ]
    }
   ],
   "source": [
    "a=np.array([(1,2,3) ,(4,5,6),(8,6,5)])\n",
    "b=np.array([7,8,9])\n",
    "print(\"ndim {}\".format(a.ndim))\n"
   ]
  },
  {
   "cell_type": "code",
   "execution_count": 12,
   "id": "39b17698",
   "metadata": {},
   "outputs": [
    {
     "name": "stdout",
     "output_type": "stream",
     "text": [
      "value: [[0. 0. 0.]\n",
      " [0. 0. 0.]]\n"
     ]
    }
   ],
   "source": [
    "a=np.zeros((2,3))\n",
    "print(\"value:\",format(a))"
   ]
  },
  {
   "cell_type": "code",
   "execution_count": 13,
   "id": "b7b77be4",
   "metadata": {},
   "outputs": [
    {
     "name": "stdout",
     "output_type": "stream",
     "text": [
      "ones value array: [[1. 1. 1.]\n",
      " [1. 1. 1.]]\n"
     ]
    }
   ],
   "source": [
    "a=np.ones((2,3))\n",
    "print(\"ones value array:\",format(a))"
   ]
  },
  {
   "cell_type": "code",
   "execution_count": 14,
   "id": "47aea8cc",
   "metadata": {},
   "outputs": [
    {
     "name": "stdout",
     "output_type": "stream",
     "text": [
      "empty values: [[1. 1. 1.]\n",
      " [1. 1. 1.]]\n"
     ]
    }
   ],
   "source": [
    "a=np.empty((2,3))\n",
    "print(\"empty values:\",format(a))\n"
   ]
  },
  {
   "cell_type": "code",
   "execution_count": 19,
   "id": "8ea3e199",
   "metadata": {},
   "outputs": [
    {
     "name": "stdout",
     "output_type": "stream",
     "text": [
      "arrange values: [ 1  4  7 10 13 16 19 22 25 28 31 34 37 40 43 46 49]\n"
     ]
    }
   ],
   "source": [
    "a=np.arange(1,50,3)\n",
    "print(\"arrange values:\",format(a))"
   ]
  },
  {
   "cell_type": "code",
   "execution_count": 20,
   "id": "982deca5",
   "metadata": {},
   "outputs": [
    {
     "name": "stdout",
     "output_type": "stream",
     "text": [
      "arrange values: [ 2  4  6  8 10 12 14 16 18]\n"
     ]
    }
   ],
   "source": [
    "a=np.arange(2,20,2)\n",
    "print(\"arrange values:\",format(a))"
   ]
  },
  {
   "cell_type": "code",
   "execution_count": 22,
   "id": "54b802fb",
   "metadata": {},
   "outputs": [
    {
     "name": "stdout",
     "output_type": "stream",
     "text": [
      "values: [1. 4.]\n"
     ]
    }
   ],
   "source": [
    "a=np.linspace(1,4,2)\n",
    "print(\"values:\",format(a))"
   ]
  },
  {
   "cell_type": "code",
   "execution_count": null,
   "id": "1f5c0b3b",
   "metadata": {},
   "outputs": [],
   "source": []
  }
 ],
 "metadata": {
  "kernelspec": {
   "display_name": "Python 3 (ipykernel)",
   "language": "python",
   "name": "python3"
  },
  "language_info": {
   "codemirror_mode": {
    "name": "ipython",
    "version": 3
   },
   "file_extension": ".py",
   "mimetype": "text/x-python",
   "name": "python",
   "nbconvert_exporter": "python",
   "pygments_lexer": "ipython3",
   "version": "3.9.12"
  }
 },
 "nbformat": 4,
 "nbformat_minor": 5
}
